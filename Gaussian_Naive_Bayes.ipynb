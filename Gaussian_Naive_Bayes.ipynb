{
  "nbformat": 4,
  "nbformat_minor": 0,
  "metadata": {
    "colab": {
      "provenance": [],
      "authorship_tag": "ABX9TyPPHLznsPTXWd5U6rOslAAY",
      "include_colab_link": true
    },
    "kernelspec": {
      "name": "python3",
      "display_name": "Python 3"
    },
    "language_info": {
      "name": "python"
    }
  },
  "cells": [
    {
      "cell_type": "markdown",
      "metadata": {
        "id": "view-in-github",
        "colab_type": "text"
      },
      "source": [
        "<a href=\"https://colab.research.google.com/github/MaxYarosh/ML-projects/blob/main/Gaussian_Naive_Bayes.ipynb\" target=\"_parent\"><img src=\"https://colab.research.google.com/assets/colab-badge.svg\" alt=\"Open In Colab\"/></a>"
      ]
    },
    {
      "cell_type": "code",
      "execution_count": 1,
      "metadata": {
        "id": "lPPtG7LpBvuy"
      },
      "outputs": [],
      "source": [
        "import numpy as np\n",
        "from sklearn.datasets import make_classification\n",
        "from sklearn.model_selection import train_test_split\n",
        "from sklearn.naive_bayes import GaussianNB\n",
        "from sklearn.metrics import accuracy_score"
      ]
    },
    {
      "cell_type": "code",
      "source": [
        "# ---Реалізація Gaussian Naive Bayes ---\n",
        "class NaiveBayesClassifier:\n",
        "    def fit(self, X, y):\n",
        "        self.classes = np.unique(y)\n",
        "        n_features = X.shape[1]\n",
        "\n",
        "\n",
        "        self.means = {}\n",
        "        self.vars = {}\n",
        "        self.priors = {}\n",
        "\n",
        "        for c in self.classes:\n",
        "            X_c = X[y == c]\n",
        "            self.means[c] = np.mean(X_c, axis=0)\n",
        "            self.vars[c] = np.var(X_c, axis=0) + 1e-9\n",
        "            self.priors[c] = X_c.shape[0] / X.shape[0]\n",
        "\n",
        "    def _pdf(self, class_idx, x):\n",
        "        \"\"\"Гаусова ймовірність ознаки для даного класу\"\"\"\n",
        "        mean = self.means[class_idx]\n",
        "        var = self.vars[class_idx]\n",
        "        numerator = np.exp(- (x - mean) ** 2 / (2 * var))\n",
        "        denominator = np.sqrt(2 * np.pi * var)\n",
        "        return numerator / denominator\n",
        "\n",
        "    def _predict_single(self, x):\n",
        "        posteriors = []\n",
        "        for c in self.classes:\n",
        "            prior = np.log(self.priors[c])\n",
        "            class_conditional = np.sum(np.log(self._pdf(c, x)))\n",
        "            posterior = prior + class_conditional\n",
        "            posteriors.append(posterior)\n",
        "        return self.classes[np.argmax(posteriors)]\n",
        "\n",
        "    def predict(self, X):\n",
        "        return np.array([self._predict_single(x) for x in X])"
      ],
      "metadata": {
        "id": "7_NIEq9HCd9J"
      },
      "execution_count": 3,
      "outputs": []
    },
    {
      "cell_type": "code",
      "source": [
        "# ---  Тест на даних ---\n",
        "X, y = make_classification(\n",
        "    n_samples=500,\n",
        "    n_features=4,\n",
        "    n_informative=4,\n",
        "    n_redundant=0,\n",
        "    n_classes=2,\n",
        "    random_state=42\n",
        ")\n",
        "\n",
        "X_train, X_test, y_train, y_test = train_test_split(X, y, test_size=0.2, random_state=42)"
      ],
      "metadata": {
        "id": "lQ04_0kfCeAs"
      },
      "execution_count": 4,
      "outputs": []
    },
    {
      "cell_type": "code",
      "source": [
        "# Наш клас\n",
        "my_nb = NaiveBayesClassifier()\n",
        "my_nb.fit(X_train, y_train)\n",
        "y_pred_my = my_nb.predict(X_test)\n",
        "print(\"Custom Naive Bayes Accuracy:\", accuracy_score(y_test, y_pred_my))"
      ],
      "metadata": {
        "colab": {
          "base_uri": "https://localhost:8080/"
        },
        "id": "SfvinMbdCeDz",
        "outputId": "a1778679-e294-4943-f373-f4e843ba1a1a"
      },
      "execution_count": 5,
      "outputs": [
        {
          "output_type": "stream",
          "name": "stdout",
          "text": [
            "Custom Naive Bayes Accuracy: 0.7\n"
          ]
        }
      ]
    },
    {
      "cell_type": "code",
      "source": [
        "# sklearn\n",
        "sk_nb = GaussianNB()\n",
        "sk_nb.fit(X_train, y_train)\n",
        "y_pred_sk = sk_nb.predict(X_test)\n",
        "print(\"sklearn GaussianNB Accuracy:\", accuracy_score(y_test, y_pred_sk))"
      ],
      "metadata": {
        "colab": {
          "base_uri": "https://localhost:8080/"
        },
        "id": "BSZO8MWrCeHw",
        "outputId": "a9ca93b1-376b-4089-c5c9-318dcd651f53"
      },
      "execution_count": 6,
      "outputs": [
        {
          "output_type": "stream",
          "name": "stdout",
          "text": [
            "sklearn GaussianNB Accuracy: 0.7\n"
          ]
        }
      ]
    },
    {
      "cell_type": "code",
      "source": [],
      "metadata": {
        "id": "O8fqiIr7CeRW"
      },
      "execution_count": null,
      "outputs": []
    }
  ]
}