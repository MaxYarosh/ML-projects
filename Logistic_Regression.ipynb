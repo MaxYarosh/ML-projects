{
  "nbformat": 4,
  "nbformat_minor": 0,
  "metadata": {
    "colab": {
      "provenance": [],
      "authorship_tag": "ABX9TyPz8bdK4Dz4ZJnhK9Bydol0",
      "include_colab_link": true
    },
    "kernelspec": {
      "name": "python3",
      "display_name": "Python 3"
    },
    "language_info": {
      "name": "python"
    }
  },
  "cells": [
    {
      "cell_type": "markdown",
      "metadata": {
        "id": "view-in-github",
        "colab_type": "text"
      },
      "source": [
        "<a href=\"https://colab.research.google.com/github/MaxYarosh/ML-projects/blob/main/Logistic_Regression.ipynb\" target=\"_parent\"><img src=\"https://colab.research.google.com/assets/colab-badge.svg\" alt=\"Open In Colab\"/></a>"
      ]
    },
    {
      "cell_type": "code",
      "execution_count": 16,
      "metadata": {
        "id": "mlGdPejd4dUl"
      },
      "outputs": [],
      "source": [
        "import numpy as np\n",
        "import matplotlib.pyplot as plt\n",
        "from sklearn.linear_model import LogisticRegression\n",
        "from sklearn.datasets import make_classification\n",
        "from sklearn.metrics import log_loss, accuracy_score"
      ]
    },
    {
      "cell_type": "code",
      "source": [
        "# ---  Допоміжні функції ---\n",
        "def sigmoid(z):\n",
        "    return 1 / (1 + np.exp(-z))\n",
        "\n",
        "def softmax(z):\n",
        "    exp_z = np.exp(z - np.max(z, axis=1, keepdims=True))\n",
        "    return exp_z / np.sum(exp_z, axis=1, keepdims=True)"
      ],
      "metadata": {
        "id": "OFZIo9Dy5iKZ"
      },
      "execution_count": 17,
      "outputs": []
    },
    {
      "cell_type": "code",
      "source": [
        "# --- Бінарна логістична регресія ---\n",
        "class LogisticRegressionBinary:\n",
        "    def __init__(self, lr=0.1, n_iter=1000):\n",
        "        self.lr = lr\n",
        "        self.n_iter = n_iter\n",
        "\n",
        "    def fit(self, X, y):\n",
        "        m, n = X.shape\n",
        "        self.theta = np.zeros((n, 1))\n",
        "\n",
        "        for _ in range(self.n_iter):\n",
        "            y_pred = sigmoid(X @ self.theta)\n",
        "            gradient = (1/m) * X.T @ (y_pred - y)\n",
        "            self.theta -= self.lr * gradient\n",
        "\n",
        "    def predict_proba(self, X):\n",
        "        return sigmoid(X @ self.theta)\n",
        "\n",
        "    def predict(self, X):\n",
        "        return (self.predict_proba(X) >= 0.5).astype(int)"
      ],
      "metadata": {
        "id": "P_YscE-W5iNZ"
      },
      "execution_count": 18,
      "outputs": []
    },
    {
      "cell_type": "code",
      "source": [
        "# ---Багатокласова логістична регресія (softmax) ---\n",
        "class LogisticRegressionMulticlass:\n",
        "    def __init__(self, lr=0.1, n_iter=1000):\n",
        "        self.lr = lr\n",
        "        self.n_iter = n_iter\n",
        "\n",
        "    def fit(self, X, y):\n",
        "        m, n = X.shape\n",
        "        k = len(np.unique(y))\n",
        "        Y = np.eye(k)[y]\n",
        "\n",
        "        self.theta = np.zeros((n, k))\n",
        "\n",
        "        for _ in range(self.n_iter):\n",
        "            logits = X @ self.theta\n",
        "            probs = softmax(logits)\n",
        "            gradient = (1/m) * X.T @ (probs - Y)\n",
        "            self.theta -= self.lr * gradient\n",
        "\n",
        "    def predict_proba(self, X):\n",
        "        return softmax(X @ self.theta)\n",
        "\n",
        "    def predict(self, X):\n",
        "        return np.argmax(self.predict_proba(X), axis=1)\n"
      ],
      "metadata": {
        "id": "x-jHYCRN5iQe"
      },
      "execution_count": 19,
      "outputs": []
    },
    {
      "cell_type": "code",
      "source": [
        "# --- Тестування: бінарна класифікація ---\n",
        "X_bin, y_bin = make_classification(\n",
        "    n_samples=500,\n",
        "    n_features=2,\n",
        "    n_informative=2,\n",
        "    n_redundant=0,\n",
        "    n_classes=2,\n",
        "    random_state=42\n",
        ")\n",
        "y_bin = y_bin.reshape(-1, 1)\n"
      ],
      "metadata": {
        "id": "Gqv4BXDq5iTY"
      },
      "execution_count": 20,
      "outputs": []
    },
    {
      "cell_type": "code",
      "source": [
        "#  bias\n",
        "X_bin_b = np.c_[np.ones((X_bin.shape[0], 1)), X_bin]\n",
        "\n",
        "model_bin = LogisticRegressionBinary(lr=0.1, n_iter=5000)\n",
        "model_bin.fit(X_bin_b, y_bin)\n",
        "\n",
        "y_pred_bin = model_bin.predict(X_bin_b)\n",
        "print(\"Custom Binary Logistic Regression:\")\n",
        "print(\"Accuracy:\", accuracy_score(y_bin, y_pred_bin))\n",
        "print(\"Log loss:\", log_loss(y_bin, model_bin.predict_proba(X_bin_b)))"
      ],
      "metadata": {
        "colab": {
          "base_uri": "https://localhost:8080/"
        },
        "id": "pXXhmrls6deH",
        "outputId": "e2a3dbe3-075f-418b-e309-c6446078bf8f"
      },
      "execution_count": 21,
      "outputs": [
        {
          "output_type": "stream",
          "name": "stdout",
          "text": [
            "Custom Binary Logistic Regression:\n",
            "Accuracy: 0.892\n",
            "Log loss: 0.2802393635568943\n"
          ]
        }
      ]
    },
    {
      "cell_type": "code",
      "source": [
        "# sklearn\n",
        "clf_bin = LogisticRegression()\n",
        "clf_bin.fit(X_bin, y_bin.ravel())\n",
        "print(\"\\nsklearn LogisticRegression (binary):\")\n",
        "print(\"Accuracy:\", clf_bin.score(X_bin, y_bin))"
      ],
      "metadata": {
        "colab": {
          "base_uri": "https://localhost:8080/"
        },
        "id": "oLSD5b1s6X4i",
        "outputId": "3beb05f4-4fa4-4406-887a-e7056ce516d1"
      },
      "execution_count": 22,
      "outputs": [
        {
          "output_type": "stream",
          "name": "stdout",
          "text": [
            "\n",
            "sklearn LogisticRegression (binary):\n",
            "Accuracy: 0.89\n"
          ]
        }
      ]
    },
    {
      "cell_type": "code",
      "source": [
        "#  Тестування: багатокласова класифікація ---\n",
        "X_multi, y_multi = make_classification(n_samples=500, n_features=4, n_classes=3, n_informative=3, n_redundant=0, random_state=42)\n",
        "\n",
        "#  bias\n",
        "X_multi_b = np.c_[np.ones((X_multi.shape[0], 1)), X_multi]\n",
        "\n",
        "model_multi = LogisticRegressionMulticlass(lr=0.1, n_iter=5000)\n",
        "model_multi.fit(X_multi_b, y_multi)\n",
        "\n",
        "y_pred_multi = model_multi.predict(X_multi_b)\n",
        "print(\"\\nCustom Multiclass Logistic Regression:\")\n",
        "print(\"Accuracy:\", accuracy_score(y_multi, y_pred_multi))\n",
        "print(\"Log loss:\", log_loss(y_multi, model_multi.predict_proba(X_multi_b)))\n"
      ],
      "metadata": {
        "colab": {
          "base_uri": "https://localhost:8080/"
        },
        "id": "iV0cFZRq535g",
        "outputId": "9204abbf-a207-4c13-8edc-b0a181eeffb8"
      },
      "execution_count": 23,
      "outputs": [
        {
          "output_type": "stream",
          "name": "stdout",
          "text": [
            "\n",
            "Custom Multiclass Logistic Regression:\n",
            "Accuracy: 0.598\n",
            "Log loss: 0.7848571239664103\n"
          ]
        }
      ]
    },
    {
      "cell_type": "code",
      "source": [
        "\n",
        "# sklearn\n",
        "clf_multi = LogisticRegression(multi_class=\"multinomial\", solver=\"lbfgs\", max_iter=5000)\n",
        "clf_multi.fit(X_multi, y_multi)\n",
        "print(\"\\nsklearn LogisticRegression (multiclass):\")\n",
        "print(\"Accuracy:\", clf_multi.score(X_multi, y_multi))"
      ],
      "metadata": {
        "colab": {
          "base_uri": "https://localhost:8080/"
        },
        "id": "hJ2YSAXC54MU",
        "outputId": "09cf600b-9d8e-4019-af6c-1b3cd1e8db21"
      },
      "execution_count": 24,
      "outputs": [
        {
          "output_type": "stream",
          "name": "stdout",
          "text": [
            "\n",
            "sklearn LogisticRegression (multiclass):\n",
            "Accuracy: 0.598\n"
          ]
        },
        {
          "output_type": "stream",
          "name": "stderr",
          "text": [
            "/usr/local/lib/python3.12/dist-packages/sklearn/linear_model/_logistic.py:1247: FutureWarning: 'multi_class' was deprecated in version 1.5 and will be removed in 1.7. From then on, it will always use 'multinomial'. Leave it to its default value to avoid this warning.\n",
            "  warnings.warn(\n"
          ]
        }
      ]
    },
    {
      "cell_type": "code",
      "source": [],
      "metadata": {
        "id": "vteXzbv55iW0"
      },
      "execution_count": 24,
      "outputs": []
    }
  ]
}