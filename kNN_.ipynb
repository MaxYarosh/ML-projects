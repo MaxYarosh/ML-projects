{
  "nbformat": 4,
  "nbformat_minor": 0,
  "metadata": {
    "colab": {
      "provenance": [],
      "authorship_tag": "ABX9TyOetaWybAJ92efvPqhxKb95",
      "include_colab_link": true
    },
    "kernelspec": {
      "name": "python3",
      "display_name": "Python 3"
    },
    "language_info": {
      "name": "python"
    }
  },
  "cells": [
    {
      "cell_type": "markdown",
      "metadata": {
        "id": "view-in-github",
        "colab_type": "text"
      },
      "source": [
        "<a href=\"https://colab.research.google.com/github/MaxYarosh/ML-projects/blob/main/kNN_.ipynb\" target=\"_parent\"><img src=\"https://colab.research.google.com/assets/colab-badge.svg\" alt=\"Open In Colab\"/></a>"
      ]
    },
    {
      "cell_type": "code",
      "execution_count": 2,
      "metadata": {
        "id": "skylFI5CAGUl"
      },
      "outputs": [],
      "source": [
        "import numpy as np\n",
        "from collections import Counter\n",
        "from sklearn.datasets import make_classification\n",
        "from sklearn.model_selection import train_test_split\n",
        "from sklearn.neighbors import KNeighborsClassifier\n",
        "from sklearn.metrics import accuracy_score"
      ]
    },
    {
      "cell_type": "code",
      "source": [
        "# --- Реалізація kNN  ---\n",
        "class KNNClassifier:\n",
        "    def __init__(self, k=3):\n",
        "        self.k = k\n",
        "\n",
        "    def fit(self, X, y):\n",
        "        self.X_train = X\n",
        "        self.y_train = y\n",
        "\n",
        "    def predict(self, X):\n",
        "        predictions = []\n",
        "        for x in X:\n",
        "            # відстані до всіх точок тренувальної вибірки (евклідова)\n",
        "            distances = np.linalg.norm(self.X_train - x, axis=1)\n",
        "\n",
        "            # Індекси k найближчих сусідів\n",
        "            k_indices = np.argsort(distances)[:self.k]\n",
        "            k_neighbor_labels = self.y_train[k_indices]\n",
        "\n",
        "            # Більшість голосів -> клас\n",
        "            most_common = Counter(k_neighbor_labels).most_common(1)[0][0]\n",
        "            predictions.append(most_common)\n",
        "\n",
        "        return np.array(predictions)"
      ],
      "metadata": {
        "id": "oh2uGnRbANuI"
      },
      "execution_count": 1,
      "outputs": []
    },
    {
      "cell_type": "code",
      "source": [
        "# --- Генеруємо дані ---\n",
        "X, y = make_classification(\n",
        "    n_samples=500,\n",
        "    n_features=2,\n",
        "    n_informative=2,\n",
        "    n_redundant=0,\n",
        "    n_classes=2,\n",
        "    random_state=42\n",
        ")\n",
        "\n",
        "X_train, X_test, y_train, y_test = train_test_split(X, y, test_size=0.2, random_state=42)"
      ],
      "metadata": {
        "id": "_6eMsI2_ANxa"
      },
      "execution_count": 3,
      "outputs": []
    },
    {
      "cell_type": "code",
      "source": [
        "\n",
        "# --- власний kNN ---\n",
        "my_knn = KNNClassifier(k=5)\n",
        "my_knn.fit(X_train, y_train)\n",
        "y_pred_my = my_knn.predict(X_test)\n",
        "\n",
        "print(\"Custom kNN Accuracy:\", accuracy_score(y_test, y_pred_my))"
      ],
      "metadata": {
        "colab": {
          "base_uri": "https://localhost:8080/"
        },
        "id": "Xaf7J8Q3AN0y",
        "outputId": "fa612874-f687-44bf-b022-d1385fe0609c"
      },
      "execution_count": 4,
      "outputs": [
        {
          "output_type": "stream",
          "name": "stdout",
          "text": [
            "Custom kNN Accuracy: 0.93\n"
          ]
        }
      ]
    },
    {
      "cell_type": "code",
      "source": [
        "# --- Порівняння зі sklearn ---\n",
        "sklearn_knn = KNeighborsClassifier(n_neighbors=5)\n",
        "sklearn_knn.fit(X_train, y_train)\n",
        "y_pred_sklearn = sklearn_knn.predict(X_test)\n",
        "\n",
        "print(\"sklearn kNN Accuracy:\", accuracy_score(y_test, y_pred_sklearn))\n"
      ],
      "metadata": {
        "colab": {
          "base_uri": "https://localhost:8080/"
        },
        "id": "W9lMDPRsAOBE",
        "outputId": "560d781f-2d38-4e60-e6eb-077af7df0b5c"
      },
      "execution_count": 5,
      "outputs": [
        {
          "output_type": "stream",
          "name": "stdout",
          "text": [
            "sklearn kNN Accuracy: 0.93\n"
          ]
        }
      ]
    }
  ]
}